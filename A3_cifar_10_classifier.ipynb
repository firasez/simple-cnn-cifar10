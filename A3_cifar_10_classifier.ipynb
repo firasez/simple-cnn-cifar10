{
  "cells": [
    {
      "cell_type": "markdown",
      "metadata": {
        "id": "dOwMz8P4u8xf"
      },
      "source": [
        "### Install the `torchmetrics` library for evaluation."
      ]
    },
    {
      "cell_type": "code",
      "execution_count": 2,
      "metadata": {
        "colab": {
          "base_uri": "https://localhost:8080/"
        },
        "id": "VfRu1q4UrZLv",
        "outputId": "9c1cf152-791d-4a58-a5dd-8ba8cd56725b"
      },
      "outputs": [
        {
          "name": "stdout",
          "output_type": "stream",
          "text": [
            "Collecting torchmetrics\n",
            "  Downloading torchmetrics-1.7.0-py3-none-any.whl.metadata (21 kB)\n",
            "Requirement already satisfied: numpy>1.20.0 in /usr/local/lib/python3.11/dist-packages (from torchmetrics) (2.0.2)\n",
            "Requirement already satisfied: packaging>17.1 in /usr/local/lib/python3.11/dist-packages (from torchmetrics) (24.2)\n",
            "Requirement already satisfied: torch>=2.0.0 in /usr/local/lib/python3.11/dist-packages (from torchmetrics) (2.6.0+cu124)\n",
            "Collecting lightning-utilities>=0.8.0 (from torchmetrics)\n",
            "  Downloading lightning_utilities-0.14.2-py3-none-any.whl.metadata (5.6 kB)\n",
            "Requirement already satisfied: setuptools in /usr/local/lib/python3.11/dist-packages (from lightning-utilities>=0.8.0->torchmetrics) (75.1.0)\n",
            "Requirement already satisfied: typing_extensions in /usr/local/lib/python3.11/dist-packages (from lightning-utilities>=0.8.0->torchmetrics) (4.12.2)\n",
            "Requirement already satisfied: filelock in /usr/local/lib/python3.11/dist-packages (from torch>=2.0.0->torchmetrics) (3.18.0)\n",
            "Requirement already satisfied: networkx in /usr/local/lib/python3.11/dist-packages (from torch>=2.0.0->torchmetrics) (3.4.2)\n",
            "Requirement already satisfied: jinja2 in /usr/local/lib/python3.11/dist-packages (from torch>=2.0.0->torchmetrics) (3.1.6)\n",
            "Requirement already satisfied: fsspec in /usr/local/lib/python3.11/dist-packages (from torch>=2.0.0->torchmetrics) (2025.3.0)\n",
            "Collecting nvidia-cuda-nvrtc-cu12==12.4.127 (from torch>=2.0.0->torchmetrics)\n",
            "  Downloading nvidia_cuda_nvrtc_cu12-12.4.127-py3-none-manylinux2014_x86_64.whl.metadata (1.5 kB)\n",
            "Collecting nvidia-cuda-runtime-cu12==12.4.127 (from torch>=2.0.0->torchmetrics)\n",
            "  Downloading nvidia_cuda_runtime_cu12-12.4.127-py3-none-manylinux2014_x86_64.whl.metadata (1.5 kB)\n",
            "Collecting nvidia-cuda-cupti-cu12==12.4.127 (from torch>=2.0.0->torchmetrics)\n",
            "  Downloading nvidia_cuda_cupti_cu12-12.4.127-py3-none-manylinux2014_x86_64.whl.metadata (1.6 kB)\n",
            "Collecting nvidia-cudnn-cu12==9.1.0.70 (from torch>=2.0.0->torchmetrics)\n",
            "  Downloading nvidia_cudnn_cu12-9.1.0.70-py3-none-manylinux2014_x86_64.whl.metadata (1.6 kB)\n",
            "Collecting nvidia-cublas-cu12==12.4.5.8 (from torch>=2.0.0->torchmetrics)\n",
            "  Downloading nvidia_cublas_cu12-12.4.5.8-py3-none-manylinux2014_x86_64.whl.metadata (1.5 kB)\n",
            "Collecting nvidia-cufft-cu12==11.2.1.3 (from torch>=2.0.0->torchmetrics)\n",
            "  Downloading nvidia_cufft_cu12-11.2.1.3-py3-none-manylinux2014_x86_64.whl.metadata (1.5 kB)\n",
            "Collecting nvidia-curand-cu12==10.3.5.147 (from torch>=2.0.0->torchmetrics)\n",
            "  Downloading nvidia_curand_cu12-10.3.5.147-py3-none-manylinux2014_x86_64.whl.metadata (1.5 kB)\n",
            "Collecting nvidia-cusolver-cu12==11.6.1.9 (from torch>=2.0.0->torchmetrics)\n",
            "  Downloading nvidia_cusolver_cu12-11.6.1.9-py3-none-manylinux2014_x86_64.whl.metadata (1.6 kB)\n",
            "Collecting nvidia-cusparse-cu12==12.3.1.170 (from torch>=2.0.0->torchmetrics)\n",
            "  Downloading nvidia_cusparse_cu12-12.3.1.170-py3-none-manylinux2014_x86_64.whl.metadata (1.6 kB)\n",
            "Requirement already satisfied: nvidia-cusparselt-cu12==0.6.2 in /usr/local/lib/python3.11/dist-packages (from torch>=2.0.0->torchmetrics) (0.6.2)\n",
            "Requirement already satisfied: nvidia-nccl-cu12==2.21.5 in /usr/local/lib/python3.11/dist-packages (from torch>=2.0.0->torchmetrics) (2.21.5)\n",
            "Requirement already satisfied: nvidia-nvtx-cu12==12.4.127 in /usr/local/lib/python3.11/dist-packages (from torch>=2.0.0->torchmetrics) (12.4.127)\n",
            "Collecting nvidia-nvjitlink-cu12==12.4.127 (from torch>=2.0.0->torchmetrics)\n",
            "  Downloading nvidia_nvjitlink_cu12-12.4.127-py3-none-manylinux2014_x86_64.whl.metadata (1.5 kB)\n",
            "Requirement already satisfied: triton==3.2.0 in /usr/local/lib/python3.11/dist-packages (from torch>=2.0.0->torchmetrics) (3.2.0)\n",
            "Requirement already satisfied: sympy==1.13.1 in /usr/local/lib/python3.11/dist-packages (from torch>=2.0.0->torchmetrics) (1.13.1)\n",
            "Requirement already satisfied: mpmath<1.4,>=1.1.0 in /usr/local/lib/python3.11/dist-packages (from sympy==1.13.1->torch>=2.0.0->torchmetrics) (1.3.0)\n",
            "Requirement already satisfied: MarkupSafe>=2.0 in /usr/local/lib/python3.11/dist-packages (from jinja2->torch>=2.0.0->torchmetrics) (3.0.2)\n",
            "Downloading torchmetrics-1.7.0-py3-none-any.whl (960 kB)\n",
            "\u001b[2K   \u001b[90m━━━━━━━━━━━━━━━━━━━━━━━━━━━━━━━━━━━━━━━━\u001b[0m \u001b[32m960.9/960.9 kB\u001b[0m \u001b[31m35.7 MB/s\u001b[0m eta \u001b[36m0:00:00\u001b[0m\n",
            "\u001b[?25hDownloading lightning_utilities-0.14.2-py3-none-any.whl (28 kB)\n",
            "Downloading nvidia_cublas_cu12-12.4.5.8-py3-none-manylinux2014_x86_64.whl (363.4 MB)\n",
            "\u001b[2K   \u001b[90m━━━━━━━━━━━━━━━━━━━━━━━━━━━━━━━━━━━━━━━━\u001b[0m \u001b[32m363.4/363.4 MB\u001b[0m \u001b[31m5.3 MB/s\u001b[0m eta \u001b[36m0:00:00\u001b[0m\n",
            "\u001b[?25hDownloading nvidia_cuda_cupti_cu12-12.4.127-py3-none-manylinux2014_x86_64.whl (13.8 MB)\n",
            "\u001b[2K   \u001b[90m━━━━━━━━━━━━━━━━━━━━━━━━━━━━━━━━━━━━━━━━\u001b[0m \u001b[32m13.8/13.8 MB\u001b[0m \u001b[31m111.3 MB/s\u001b[0m eta \u001b[36m0:00:00\u001b[0m\n",
            "\u001b[?25hDownloading nvidia_cuda_nvrtc_cu12-12.4.127-py3-none-manylinux2014_x86_64.whl (24.6 MB)\n",
            "\u001b[2K   \u001b[90m━━━━━━━━━━━━━━━━━━━━━━━━━━━━━━━━━━━━━━━━\u001b[0m \u001b[32m24.6/24.6 MB\u001b[0m \u001b[31m91.6 MB/s\u001b[0m eta \u001b[36m0:00:00\u001b[0m\n",
            "\u001b[?25hDownloading nvidia_cuda_runtime_cu12-12.4.127-py3-none-manylinux2014_x86_64.whl (883 kB)\n",
            "\u001b[2K   \u001b[90m━━━━━━━━━━━━━━━━━━━━━━━━━━━━━━━━━━━━━━━━\u001b[0m \u001b[32m883.7/883.7 kB\u001b[0m \u001b[31m54.4 MB/s\u001b[0m eta \u001b[36m0:00:00\u001b[0m\n",
            "\u001b[?25hDownloading nvidia_cudnn_cu12-9.1.0.70-py3-none-manylinux2014_x86_64.whl (664.8 MB)\n",
            "\u001b[2K   \u001b[90m━━━━━━━━━━━━━━━━━━━━━━━━━━━━━━━━━━━━━━━━\u001b[0m \u001b[32m664.8/664.8 MB\u001b[0m \u001b[31m1.2 MB/s\u001b[0m eta \u001b[36m0:00:00\u001b[0m\n",
            "\u001b[?25hDownloading nvidia_cufft_cu12-11.2.1.3-py3-none-manylinux2014_x86_64.whl (211.5 MB)\n",
            "\u001b[2K   \u001b[90m━━━━━━━━━━━━━━━━━━━━━━━━━━━━━━━━━━━━━━━━\u001b[0m \u001b[32m211.5/211.5 MB\u001b[0m \u001b[31m7.2 MB/s\u001b[0m eta \u001b[36m0:00:00\u001b[0m\n",
            "\u001b[?25hDownloading nvidia_curand_cu12-10.3.5.147-py3-none-manylinux2014_x86_64.whl (56.3 MB)\n",
            "\u001b[2K   \u001b[90m━━━━━━━━━━━━━━━━━━━━━━━━━━━━━━━━━━━━━━━━\u001b[0m \u001b[32m56.3/56.3 MB\u001b[0m \u001b[31m13.9 MB/s\u001b[0m eta \u001b[36m0:00:00\u001b[0m\n",
            "\u001b[?25hDownloading nvidia_cusolver_cu12-11.6.1.9-py3-none-manylinux2014_x86_64.whl (127.9 MB)\n",
            "\u001b[2K   \u001b[90m━━━━━━━━━━━━━━━━━━━━━━━━━━━━━━━━━━━━━━━━\u001b[0m \u001b[32m127.9/127.9 MB\u001b[0m \u001b[31m7.4 MB/s\u001b[0m eta \u001b[36m0:00:00\u001b[0m\n",
            "\u001b[?25hDownloading nvidia_cusparse_cu12-12.3.1.170-py3-none-manylinux2014_x86_64.whl (207.5 MB)\n",
            "\u001b[2K   \u001b[90m━━━━━━━━━━━━━━━━━━━━━━━━━━━━━━━━━━━━━━━━\u001b[0m \u001b[32m207.5/207.5 MB\u001b[0m \u001b[31m5.7 MB/s\u001b[0m eta \u001b[36m0:00:00\u001b[0m\n",
            "\u001b[?25hDownloading nvidia_nvjitlink_cu12-12.4.127-py3-none-manylinux2014_x86_64.whl (21.1 MB)\n",
            "\u001b[2K   \u001b[90m━━━━━━━━━━━━━━━━━━━━━━━━━━━━━━━━━━━━━━━━\u001b[0m \u001b[32m21.1/21.1 MB\u001b[0m \u001b[31m33.8 MB/s\u001b[0m eta \u001b[36m0:00:00\u001b[0m\n",
            "\u001b[?25hInstalling collected packages: nvidia-nvjitlink-cu12, nvidia-curand-cu12, nvidia-cufft-cu12, nvidia-cuda-runtime-cu12, nvidia-cuda-nvrtc-cu12, nvidia-cuda-cupti-cu12, nvidia-cublas-cu12, lightning-utilities, nvidia-cusparse-cu12, nvidia-cudnn-cu12, nvidia-cusolver-cu12, torchmetrics\n",
            "  Attempting uninstall: nvidia-nvjitlink-cu12\n",
            "    Found existing installation: nvidia-nvjitlink-cu12 12.5.82\n",
            "    Uninstalling nvidia-nvjitlink-cu12-12.5.82:\n",
            "      Successfully uninstalled nvidia-nvjitlink-cu12-12.5.82\n",
            "  Attempting uninstall: nvidia-curand-cu12\n",
            "    Found existing installation: nvidia-curand-cu12 10.3.6.82\n",
            "    Uninstalling nvidia-curand-cu12-10.3.6.82:\n",
            "      Successfully uninstalled nvidia-curand-cu12-10.3.6.82\n",
            "  Attempting uninstall: nvidia-cufft-cu12\n",
            "    Found existing installation: nvidia-cufft-cu12 11.2.3.61\n",
            "    Uninstalling nvidia-cufft-cu12-11.2.3.61:\n",
            "      Successfully uninstalled nvidia-cufft-cu12-11.2.3.61\n",
            "  Attempting uninstall: nvidia-cuda-runtime-cu12\n",
            "    Found existing installation: nvidia-cuda-runtime-cu12 12.5.82\n",
            "    Uninstalling nvidia-cuda-runtime-cu12-12.5.82:\n",
            "      Successfully uninstalled nvidia-cuda-runtime-cu12-12.5.82\n",
            "  Attempting uninstall: nvidia-cuda-nvrtc-cu12\n",
            "    Found existing installation: nvidia-cuda-nvrtc-cu12 12.5.82\n",
            "    Uninstalling nvidia-cuda-nvrtc-cu12-12.5.82:\n",
            "      Successfully uninstalled nvidia-cuda-nvrtc-cu12-12.5.82\n",
            "  Attempting uninstall: nvidia-cuda-cupti-cu12\n",
            "    Found existing installation: nvidia-cuda-cupti-cu12 12.5.82\n",
            "    Uninstalling nvidia-cuda-cupti-cu12-12.5.82:\n",
            "      Successfully uninstalled nvidia-cuda-cupti-cu12-12.5.82\n",
            "  Attempting uninstall: nvidia-cublas-cu12\n",
            "    Found existing installation: nvidia-cublas-cu12 12.5.3.2\n",
            "    Uninstalling nvidia-cublas-cu12-12.5.3.2:\n",
            "      Successfully uninstalled nvidia-cublas-cu12-12.5.3.2\n",
            "  Attempting uninstall: nvidia-cusparse-cu12\n",
            "    Found existing installation: nvidia-cusparse-cu12 12.5.1.3\n",
            "    Uninstalling nvidia-cusparse-cu12-12.5.1.3:\n",
            "      Successfully uninstalled nvidia-cusparse-cu12-12.5.1.3\n",
            "  Attempting uninstall: nvidia-cudnn-cu12\n",
            "    Found existing installation: nvidia-cudnn-cu12 9.3.0.75\n",
            "    Uninstalling nvidia-cudnn-cu12-9.3.0.75:\n",
            "      Successfully uninstalled nvidia-cudnn-cu12-9.3.0.75\n",
            "  Attempting uninstall: nvidia-cusolver-cu12\n",
            "    Found existing installation: nvidia-cusolver-cu12 11.6.3.83\n",
            "    Uninstalling nvidia-cusolver-cu12-11.6.3.83:\n",
            "      Successfully uninstalled nvidia-cusolver-cu12-11.6.3.83\n",
            "Successfully installed lightning-utilities-0.14.2 nvidia-cublas-cu12-12.4.5.8 nvidia-cuda-cupti-cu12-12.4.127 nvidia-cuda-nvrtc-cu12-12.4.127 nvidia-cuda-runtime-cu12-12.4.127 nvidia-cudnn-cu12-9.1.0.70 nvidia-cufft-cu12-11.2.1.3 nvidia-curand-cu12-10.3.5.147 nvidia-cusolver-cu12-11.6.1.9 nvidia-cusparse-cu12-12.3.1.170 nvidia-nvjitlink-cu12-12.4.127 torchmetrics-1.7.0\n"
          ]
        }
      ],
      "source": [
        "!pip install torchmetrics"
      ]
    },
    {
      "cell_type": "code",
      "execution_count": 2,
      "metadata": {
        "id": "WvyBoe94rICo"
      },
      "outputs": [],
      "source": [
        "import torch\n",
        "import torch.nn as nn\n",
        "import matplotlib.pyplot as plt\n",
        "from torch.utils.data import DataLoader\n",
        "from torchvision import datasets, transforms\n",
        "from torchmetrics.classification import Accuracy\n",
        "from torchvision.models import resnet50, ResNet50_Weights, vgg16, VGG16_Weights\n",
        "from tqdm import tqdm"
      ]
    },
    {
      "cell_type": "code",
      "execution_count": 3,
      "metadata": {
        "colab": {
          "base_uri": "https://localhost:8080/"
        },
        "id": "tz_NcLjEr7TR",
        "outputId": "e32b3e27-eac1-4fb1-f26a-b2a987aaf371"
      },
      "outputs": [
        {
          "name": "stdout",
          "output_type": "stream",
          "text": [
            "cuda\n"
          ]
        }
      ],
      "source": [
        "device = torch.device('cuda' if torch.cuda.is_available() else 'cpu')\n",
        "print(device)"
      ]
    },
    {
      "cell_type": "code",
      "execution_count": 4,
      "metadata": {
        "id": "rhFBjZ0ZsATj"
      },
      "outputs": [],
      "source": [
        "EPOCHS = 5\n",
        "BATCH_SIZE = 64\n",
        "LEARNING_RATE = 0.0001\n",
        "NUM_CLASSES = 10"
      ]
    },
    {
      "cell_type": "code",
      "execution_count": 5,
      "metadata": {
        "id": "W0h-ONwLrvHM"
      },
      "outputs": [],
      "source": [
        "def load_data(T, batch_size):\n",
        "  train_data = datasets.CIFAR10(root='./data', train=True, download=True, transform=T)\n",
        "  train_loader = DataLoader(train_data, batch_size=batch_size, shuffle=True)\n",
        "\n",
        "  test_data = datasets.CIFAR10(root='./data', train=False, download=True, transform=T)\n",
        "  test_loader = DataLoader(test_data, batch_size=batch_size, shuffle=False)\n",
        "\n",
        "  return train_loader, test_loader"
      ]
    },
    {
      "cell_type": "code",
      "execution_count": 6,
      "metadata": {
        "id": "RegnwjvarUWX"
      },
      "outputs": [],
      "source": [
        "def plot_results(train_losses, test_losses, test_accuracies):\n",
        "  \"\"\"\n",
        "  Plot the train and test losses and accuracy values over a number of epochs.\n",
        "  \"\"\"\n",
        "  fig, ax = plt.subplots(1, 2, figsize=(9, 3))\n",
        "\n",
        "  ax[0].plot(train_losses, label='Train Loss')\n",
        "  ax[0].plot(test_losses, label='Test Loss', color='red')\n",
        "  ax[0].legend()\n",
        "  ax[1].plot([value for value in test_accuracies], label='Test Accuracy', color='green')\n",
        "\n",
        "  ax[0].set_title('Train / Test Loss')\n",
        "  ax[1].set_title('Test Accuracy')\n",
        "\n",
        "  plt.show()"
      ]
    },
    {
      "cell_type": "markdown",
      "metadata": {
        "id": "3F3qoAtu6Qsj"
      },
      "source": [
        "# Q1. Complete the following implementations:\n",
        "- `train_epoch`\n",
        "- `eval_model`\n",
        "- `run_experiment`\n",
        "- `SimpleCNN`\n",
        "- `ResNet50Transfer`\n",
        "- `VGGTransfer`\n"
      ]
    },
    {
      "cell_type": "markdown",
      "metadata": {
        "id": "zCKsMz9UzaCo"
      },
      "source": [
        "In the following functions, you are training and evaluating the model for just one epoch (One full pass through the dataset). Complete the `train_epoch` and `eval_model` functions."
      ]
    },
    {
      "cell_type": "code",
      "execution_count": 7,
      "metadata": {
        "id": "LUEIwHDsrj3K"
      },
      "outputs": [],
      "source": [
        "def train_epoch(model, train_loader, optimizer, criterion, device):\n",
        "    \"\"\"\n",
        "    Train the model for one epoch.\n",
        "    \"\"\"\n",
        "    # set the model to training e.g. enable dropouts\n",
        "    model.train()\n",
        "    running_loss = 0.0\n",
        "\n",
        "    # Iterate through the batch of samples in the train set\n",
        "    for images, labels in train_loader:\n",
        "        images, labels = images.to(device), labels.to(device)\n",
        "\n",
        "        # zero the previously calculated gradients\n",
        "        # make predictions\n",
        "        # calculate the loss\n",
        "        # calculate the gradient of the loss\n",
        "        # adjust the model parameters based on the gradient\n",
        "        optimizer.zero_grad()\n",
        "        outputs = model(images)\n",
        "        loss = criterion(outputs, labels)\n",
        "        # keep track of the loss\n",
        "        loss.backward()\n",
        "        optimizer.step()\n",
        "        running_loss += loss.item()\n",
        "\n",
        "    train_loss = running_loss / len(train_loader)\n",
        "    # return the average of the loss over all of the batches\n",
        "    return train_loss\n",
        "\n",
        "def eval_model(model, test_loader, criterion, acc, device):\n",
        "    \"\"\"\n",
        "    Evaluate the model on the test set.\n",
        "    \"\"\"\n",
        "    # set the model to eval mode e.g. disable dropouts\n",
        "    model.eval()\n",
        "    running_loss = 0.0\n",
        "    # reset the calculated accuracy object\n",
        "    acc.reset()\n",
        "\n",
        "    # make sure the following does not affect the gradient calculation\n",
        "    with torch.no_grad():\n",
        "        # Iterate through the batch of samples in the test set\n",
        "        for images, labels in test_loader:\n",
        "           # make predictions\n",
        "           # calculate the loss\n",
        "           # keep track of the loss\n",
        "           # update the overall accuracy by including the accuracy of this batch\n",
        "            images, labels = images.to(device), labels.to(device)\n",
        "\n",
        "            outputs = model(images)\n",
        "            loss = criterion(outputs, labels)\n",
        "\n",
        "            running_loss += loss.item()\n",
        "            acc.update(outputs, labels)\n",
        "    # return:\n",
        "    # the average loss over the test set\n",
        "    # the accuracy over the test set\n",
        "    test_loss = running_loss / len(test_loader)\n",
        "    test_acc = acc.compute().item()\n",
        "    return test_loss, test_acc\n"
      ]
    },
    {
      "cell_type": "markdown",
      "metadata": {
        "id": "MhLDqkJ71V_z"
      },
      "source": [
        "In the following function you will use the previous function to train the model over a number of epochs. Complete the `run_experiment` function."
      ]
    },
    {
      "cell_type": "code",
      "execution_count": 8,
      "metadata": {
        "id": "QDk_1Cy4rn-f"
      },
      "outputs": [],
      "source": [
        "def run_experiment(model, train_loader, test_loader, optimizer, criterion, device, epochs=10):\n",
        "  \"\"\"\n",
        "  Run the experiment for a given number of epochs.\n",
        "\n",
        "  args:\n",
        "    model: torch.nn.Module, the model to train\n",
        "    train_loader: torch.utils.data.DataLoader, the dataloader for the training set\n",
        "    test_loader: torch.utils.data.DataLoader, the dataloader for the test set\n",
        "    optimizer: torch.optim.Optimizer, the optimizer to use\n",
        "    criterion: torch.nn.Module, the loss function to use\n",
        "    device: torch.device\n",
        "    epochs: int, the number of epochs to train for\n",
        "\n",
        "  returns:\n",
        "    train_losses: list of floats, the train loss for each epoch\n",
        "    test_losses: list of floats, the test loss for each epoch\n",
        "    accuracies: list of floats, the test accuracy for each epoch\n",
        "  \"\"\"\n",
        "  train_losses = []\n",
        "  test_losses = []\n",
        "  accuracies = []\n",
        "\n",
        "  acc = Accuracy('multiclass', num_classes=NUM_CLASSES).to(device) # Initialize the accuracy object\n",
        "\n",
        "  # Interate through the number of epochs\n",
        "  for epoch in range(epochs):\n",
        "    print(f\"Epoch {epoch+1}/{epochs}\")\n",
        "\n",
        "    # Train the model (using the `train_epoch` function)\n",
        "    train_loss = train_epoch(model, train_loader, optimizer, criterion, device)\n",
        "    # Keep track of the training loss for this epoch\n",
        "    train_losses.append(train_loss)\n",
        "\n",
        "    # Evaluate the model (using the `eval_model` function)\n",
        "    test_loss, test_acc = eval_model(model, test_loader, criterion, acc, device)\n",
        "    # Keep track of the testing loss and the testing accuracy for this epoch\n",
        "    test_losses.append(test_loss)\n",
        "    accuracies.append(test_acc)\n",
        "    # Print them\n",
        "    print(f\"Train Loss: {train_loss:.4f}, Test Loss: {test_loss:.4f}, Test Accuracy: {test_acc:.4f}\")\n",
        "\n",
        "  print(\"Finished training.\")\n",
        "  # return:\n",
        "    # train_losses: list of floats, the train loss for each epoch\n",
        "    # test_losses: list of floats, the test loss for each epoch\n",
        "    # accuracies: list of floats, the test accuracy for each epoch\n",
        "  return train_losses, test_losses, accuracies"
      ]
    },
    {
      "cell_type": "code",
      "execution_count": 9,
      "metadata": {
        "id": "nKRXfSc874Fq"
      },
      "outputs": [],
      "source": [
        "class SimpleCNN(nn.Module):\n",
        "  def __init__(self, num_classes=10):\n",
        "    super().__init__()\n",
        "\n",
        "    # Convolution(3x3 kernel) channels: 3 -> 32\n",
        "    # ReLU\n",
        "    # Max pooling (2x2)\n",
        "    self.conv1 = nn.Sequential(\n",
        "      nn.Conv2d(3, 32, kernel_size=3, padding=1),\n",
        "      nn.ReLU(),\n",
        "      nn.MaxPool2d(kernel_size=2, stride=2)\n",
        "    )\n",
        "\n",
        "    # Convolution(3x3 kernel) channels: 32 -> 64\n",
        "    # ReLU\n",
        "    # Max pooling (2x2)\n",
        "    self.conv2 = nn.Sequential(\n",
        "      nn.Conv2d(32, 64, kernel_size=3, padding=1),\n",
        "      nn.ReLU(),\n",
        "      nn.MaxPool2d(kernel_size=2, stride=2)\n",
        "    )\n",
        "    # Convolution(3x3 kernel) channels: 64 -> 128\n",
        "    # ReLU\n",
        "    # Max pooling (2x2)\n",
        "    self.conv3 = nn.Sequential(\n",
        "      nn.Conv2d(64, 128, kernel_size=3, padding=1),\n",
        "      nn.ReLU(),\n",
        "      nn.MaxPool2d(kernel_size=2, stride=2)\n",
        "    )\n",
        "\n",
        "    # Linear 512 hidden_dim\n",
        "    # ReLU\n",
        "    # Linear output -> num_classes\n",
        "    self.fc1 = nn.Sequential(\n",
        "      nn.Linear(128 * 4 * 4, 512),\n",
        "      nn.ReLU()\n",
        "    )\n",
        "\n",
        "    self.fc2 = nn.Linear(512, num_classes)\n",
        "\n",
        "  def forward(self, x):\n",
        "    x = self.conv1(x)\n",
        "    x = self.conv2(x)\n",
        "    x = self.conv3(x)\n",
        "    # make the output flat\n",
        "    x = x.view(x.size(0), -1)\n",
        "    x = self.fc1(x)\n",
        "    x = self.fc2(x)\n",
        "    return x"
      ]
    },
    {
      "cell_type": "code",
      "execution_count": 10,
      "metadata": {
        "id": "vTLYSkq20oDz"
      },
      "outputs": [],
      "source": [
        "class ResNet50Transfer(nn.Module):\n",
        "    def __init__(self, num_classes=10):\n",
        "        super().__init__()\n",
        "\n",
        "        # Initialize Resnet 50 with the default weights\n",
        "        self.resnet50 = resnet50(weights=ResNet50_Weights.IMAGENET1K_V1)\n",
        "\n",
        "        # Freeze the resnet weights\n",
        "        for param in self.resnet50.parameters():\n",
        "            param.requires_grad = False\n",
        "\n",
        "        # replace the last fully connected layers with the following:\n",
        "        in_features = self.resnet50.fc.in_features\n",
        "        self.resnet50.fc = nn.Sequential(\n",
        "            # Linear 256 hidden_dim\n",
        "            nn.Linear(in_features, 256),\n",
        "            # ReLU\n",
        "            nn.ReLU(),\n",
        "            # Linear output -> num_classes\n",
        "            nn.Linear(256, num_classes)\n",
        "        )\n",
        "\n",
        "    def forward(self, x):\n",
        "        return self.resnet50(x)\n"
      ]
    },
    {
      "cell_type": "code",
      "execution_count": 11,
      "metadata": {
        "id": "gCF0z7C0rp0-"
      },
      "outputs": [],
      "source": [
        "class VGGTransfer(nn.Module):\n",
        "    def __init__(self, num_classes=10):\n",
        "        super().__init__()\n",
        "\n",
        "        # Initialize VGG16 with the default weights\n",
        "        self.vgg16 = vgg16(weights=VGG16_Weights.IMAGENET1K_V1)\n",
        "\n",
        "        # Freeze the feature weights\n",
        "        for param in self.vgg16.features.parameters():\n",
        "            param.requires_grad = False\n",
        "\n",
        "        # Replace the classifier with the following:\n",
        "        self.vgg16.classifier = nn.Sequential(\n",
        "            # Linear 256 hidden_dim\n",
        "            nn.Linear(25088, 256),\n",
        "            # ReLU\n",
        "            nn.ReLU(),\n",
        "            # Linear output -> num_classes\n",
        "            nn.Linear(256, num_classes)  # Output layer with num_classes\n",
        "        )\n",
        "\n",
        "    def forward(self, x):\n",
        "        return self.vgg16(x)\n"
      ]
    },
    {
      "cell_type": "markdown",
      "metadata": {
        "id": "snkOINeA7EFA"
      },
      "source": [
        "# Q2. Run the following experiments and report the results.\n",
        "- Train and evaluate the `SimpleCNN` model on the CIFAR-10 dataset (for 5 epochs minimum).\n",
        "- Plot the train and test loss, as well as the test accuracy.\n",
        "- Analyze and report the results. Provide reasoning for your analysis."
      ]
    },
    {
      "cell_type": "code",
      "execution_count": 12,
      "metadata": {
        "colab": {
          "base_uri": "https://localhost:8080/"
        },
        "id": "rpSn6YBF8L8s",
        "outputId": "d25bbe86-3499-4c66-9fb1-49fabc589a9a"
      },
      "outputs": [
        {
          "name": "stdout",
          "output_type": "stream",
          "text": [
            "Epoch 1/5\n",
            "Train Loss: 1.6802, Test Loss: 1.4682, Test Accuracy: 0.4598\n",
            "Epoch 2/5\n",
            "Train Loss: 1.3991, Test Loss: 1.3157, Test Accuracy: 0.5282\n",
            "Epoch 3/5\n",
            "Train Loss: 1.2838, Test Loss: 1.2284, Test Accuracy: 0.5561\n",
            "Epoch 4/5\n",
            "Train Loss: 1.1947, Test Loss: 1.1696, Test Accuracy: 0.5816\n",
            "Epoch 5/5\n",
            "Train Loss: 1.1220, Test Loss: 1.0923, Test Accuracy: 0.6120\n",
            "Finished training.\n"
          ]
        }
      ],
      "source": [
        "T = transforms.Compose([\n",
        "  transforms.ToTensor(),\n",
        "  transforms.Normalize((0.5, 0.5, 0.5), (0.5, 0.5, 0.5))\n",
        "])\n",
        "\n",
        "train_loader, test_loader = load_data(T, BATCH_SIZE)\n",
        "simple_cnn = SimpleCNN(NUM_CLASSES).to(device)\n",
        "optimizer = torch.optim.Adam(simple_cnn.parameters(), lr=LEARNING_RATE)\n",
        "criterion = nn.CrossEntropyLoss()\n",
        "\n",
        "train_losses, test_losses, accuracies = run_experiment(simple_cnn, train_loader, test_loader, optimizer, criterion, device, EPOCHS)"
      ]
    },
    {
      "cell_type": "code",
      "execution_count": 13,
      "metadata": {
        "colab": {
          "base_uri": "https://localhost:8080/",
          "height": 314
        },
        "id": "sGk5KidK8RN5",
        "outputId": "2eac4fdd-2a9c-4902-9530-e718294b7dd7"
      },
      "outputs": [
        {
          "data": {
            "image/png": "[encoded data removed]",
            "text/plain": [
              "<Figure size 900x300 with 2 Axes>"
            ]
          },
          "metadata": {},
          "output_type": "display_data"
        }
      ],
      "source": [
        "plot_results(train_losses, test_losses, accuracies)"
      ]
    },
    {
      "cell_type": "markdown",
      "metadata": {},
      "source": [
        "# Analysis\n",
        "Both train and test loss decreases from 1.6802 to 1.1220 and 1.4682 to 1.0923 respectively.\n",
        "\n",
        "The accuracy increases from 0.4598 to 0.6120.\n",
        "\n",
        "This shows consistent improvement of 5 epochs, however still not as effective as ResNet50 that is seen below.\n",
        "\n",
        "Deeper layers would be suggested in order to improve these results.\n"
      ]
    },
    {
      "cell_type": "markdown",
      "metadata": {
        "id": "9vukI4spGsJl"
      },
      "source": [
        "# Q3. Run the following experiments and report the results.\n",
        "- Train and evaluate the `ResNet50_Weights` model on the CIFAR-10 dataset (for 5 epochs minimum).\n",
        "- Plot the train and test loss, as well as the test accuracy.\n",
        "- Analyze and report the results. Provide reasoning for your analysis. Make comparisons to the previous experiments when appropriate."
      ]
    },
    {
      "cell_type": "code",
      "execution_count": 14,
      "metadata": {
        "colab": {
          "base_uri": "https://localhost:8080/"
        },
        "id": "bsAPC2s5060V",
        "outputId": "1108553a-d314-4235-fe78-f6d6c0e61ebc"
      },
      "outputs": [
        {
          "name": "stderr",
          "output_type": "stream",
          "text": [
            "Downloading: \"https://download.pytorch.org/models/resnet50-0676ba61.pth\" to /root/.cache/torch/hub/checkpoints/resnet50-0676ba61.pth\n",
            "100%|██████████| 97.8M/97.8M [00:00<00:00, 120MB/s]\n"
          ]
        },
        {
          "name": "stdout",
          "output_type": "stream",
          "text": [
            "Epoch 1/5\n",
            "Train Loss: 0.9590, Test Loss: 0.6703, Test Accuracy: 0.7758\n",
            "Epoch 2/5\n",
            "Train Loss: 0.6453, Test Loss: 0.6258, Test Accuracy: 0.7836\n",
            "Epoch 3/5\n",
            "Train Loss: 0.6005, Test Loss: 0.5821, Test Accuracy: 0.7932\n",
            "Epoch 4/5\n",
            "Train Loss: 0.5787, Test Loss: 0.5695, Test Accuracy: 0.8056\n",
            "Epoch 5/5\n",
            "Train Loss: 0.5634, Test Loss: 0.5593, Test Accuracy: 0.8068\n",
            "Finished training.\n"
          ]
        }
      ],
      "source": [
        "T = ResNet50_Weights.DEFAULT.transforms()\n",
        "train_loader, test_loader = load_data(T, BATCH_SIZE)\n",
        "\n",
        "resnet_transfer = ResNet50Transfer(NUM_CLASSES).to(device)\n",
        "optimizer = torch.optim.Adam(resnet_transfer.parameters(), lr=LEARNING_RATE)\n",
        "criterion = nn.CrossEntropyLoss()\n",
        "\n",
        "train_losses, test_losses, accuracies = run_experiment(resnet_transfer, train_loader, test_loader, optimizer, criterion, device, EPOCHS)"
      ]
    },
    {
      "cell_type": "code",
      "execution_count": 15,
      "metadata": {
        "colab": {
          "base_uri": "https://localhost:8080/",
          "height": 314
        },
        "id": "g3jRsgSQ1GR4",
        "outputId": "727a1e18-0017-44dc-9d3b-f682aae379eb"
      },
      "outputs": [
        {
          "data": {
            "image/png": "[encoded data removed]",
            "text/plain": [
              "<Figure size 900x300 with 2 Axes>"
            ]
          },
          "metadata": {},
          "output_type": "display_data"
        }
      ],
      "source": [
        "plot_results(train_losses, test_losses, accuracies)"
      ]
    },
    {
      "cell_type": "markdown",
      "metadata": {},
      "source": [
        "# Analysis\n",
        "For 5 epochs\n",
        "\n",
        "Consistent decrease in both train and test loss from 0.9590 to 0.5634 and 0.6703 to 0.5593 respectively.\n",
        "\n",
        "The accuracy however increases from 0.7758 to 0.8068\n",
        "\n",
        "Due to the decrease of the train and test losses, more epochs would further more improve the accuracy, or a lower learning rate\n",
        "\n",
        "\n",
        "With CIFAR-10 image classification, ResNet50 was effective with transfer learning\n"
      ]
    },
    {
      "cell_type": "markdown",
      "metadata": {
        "id": "-kTcf1GbHKl3"
      },
      "source": [
        "# Q4. Run the following experiments and report the results.\n",
        "- Train and evaluate the `VGGTransfer` model on the CIFAR-10 dataset (for 5 epochs minimum).\n",
        "- Plot the train and test loss, as well as the test accuracy.\n",
        "- Analyze and report the results. Provide reasoning for your analysis. Make comparisons to the previous experiments when appropriate."
      ]
    },
    {
      "cell_type": "code",
      "execution_count": 16,
      "metadata": {
        "colab": {
          "base_uri": "https://localhost:8080/"
        },
        "id": "R-d40tEzuYv0",
        "outputId": "3e39fb18-3094-49a4-bd64-ceaedc238b63"
      },
      "outputs": [
        {
          "name": "stderr",
          "output_type": "stream",
          "text": [
            "Downloading: \"https://download.pytorch.org/models/vgg16-397923af.pth\" to /root/.cache/torch/hub/checkpoints/vgg16-397923af.pth\n",
            "100%|██████████| 528M/528M [00:08<00:00, 62.5MB/s]\n"
          ]
        },
        {
          "name": "stdout",
          "output_type": "stream",
          "text": [
            "Epoch 1/5\n",
            "Train Loss: 0.4810, Test Loss: 0.4176, Test Accuracy: 0.8576\n",
            "Epoch 2/5\n",
            "Train Loss: 0.2038, Test Loss: 0.4058, Test Accuracy: 0.8625\n",
            "Epoch 3/5\n",
            "Train Loss: 0.1037, Test Loss: 0.4330, Test Accuracy: 0.8654\n",
            "Epoch 4/5\n",
            "Train Loss: 0.0483, Test Loss: 0.4639, Test Accuracy: 0.8650\n",
            "Epoch 5/5\n",
            "Train Loss: 0.0217, Test Loss: 0.4960, Test Accuracy: 0.8637\n",
            "Finished training.\n"
          ]
        }
      ],
      "source": [
        "T = VGG16_Weights.DEFAULT.transforms()\n",
        "train_loader, test_loader = load_data(T, BATCH_SIZE)\n",
        "\n",
        "vgg_transfer = VGGTransfer(NUM_CLASSES).to(device)\n",
        "optimizer = torch.optim.Adam(vgg_transfer.parameters(), lr=LEARNING_RATE)\n",
        "criterion = nn.CrossEntropyLoss()\n",
        "\n",
        "train_losses, test_losses, accuracies = run_experiment(vgg_transfer, train_loader, test_loader, optimizer, criterion, device, EPOCHS)"
      ]
    },
    {
      "cell_type": "code",
      "execution_count": 17,
      "metadata": {
        "colab": {
          "base_uri": "https://localhost:8080/",
          "height": 314
        },
        "id": "rQpOCgdZunkr",
        "outputId": "68e075eb-021c-4da3-d6c7-0b7113237a72"
      },
      "outputs": [
        {
          "data": {
            "image/png": "[encoded data removed]",
            "text/plain": [
              "<Figure size 900x300 with 2 Axes>"
            ]
          },
          "metadata": {},
          "output_type": "display_data"
        }
      ],
      "source": [
        "plot_results(train_losses, test_losses, accuracies)"
      ]
    },
    {
      "cell_type": "markdown",
      "metadata": {},
      "source": [
        "# Analysis\n",
        "\n",
        "The train loss decreases from 0.4810 all the way to 0.0217, which indicates that this model had been trained effectively.\n",
        "\n",
        "The test loss decreases from 0.4176 to 0.4058 then quickly jumps back up consistently all the way to 0.4960, which could be a cause of overfitting\n",
        "\n",
        "The accuracy had consistently increases little by little from 0.8576 to 0.8637, which means it is generalizing well with new data.\n",
        "\n",
        "In order to reduce the overfitting caused in the test loss decrease, we could apply data augmentation or early stopping\n",
        "\n",
        "\n"
      ]
    }
  ],
  "metadata": {
    "accelerator": "GPU",
    "colab": {
      "gpuType": "T4",
      "provenance": []
    },
    "kernelspec": {
      "display_name": "Python 3",
      "name": "python3"
    },
    "language_info": {
      "codemirror_mode": {
        "name": "ipython",
        "version": 3
      },
      "file_extension": ".py",
      "mimetype": "text/x-python",
      "name": "python",
      "nbconvert_exporter": "python",
      "pygments_lexer": "ipython3",
      "version": "3.10.1"
    }
  },
  "nbformat": 4,
  "nbformat_minor": 0
}
